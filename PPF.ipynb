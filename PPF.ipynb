{
 "cells": [
  {
   "cell_type": "code",
   "execution_count": 1,
   "metadata": {},
   "outputs": [],
   "source": [
    "import sys\n",
    "sys.path.append('./build')"
   ]
  },
  {
   "cell_type": "code",
   "execution_count": 2,
   "metadata": {},
   "outputs": [],
   "source": [
    "from tpk4170.visualization import Viewer\n",
    "from tpk4170.models import Grid, PointCloud"
   ]
  },
  {
   "cell_type": "code",
   "execution_count": 3,
   "metadata": {},
   "outputs": [],
   "source": [
    "import numpy as np\n",
    "np.set_printoptions(suppress=True)"
   ]
  },
  {
   "cell_type": "code",
   "execution_count": 4,
   "metadata": {},
   "outputs": [],
   "source": [
    "import ppf_registration_spatial_hashing as ppf"
   ]
  },
  {
   "cell_type": "code",
   "execution_count": 5,
   "metadata": {},
   "outputs": [],
   "source": [
    "model = ppf.load_ply_file('./samples/data/parasaurolophus_low_normals2.ply')"
   ]
  },
  {
   "cell_type": "code",
   "execution_count": 6,
   "metadata": {},
   "outputs": [],
   "source": [
    "model = ppf.load_ply_file('./samples/data-eirik/NEW_MODEL_NORMALS_CLUSTER_POISSON.ply')"
   ]
  },
  {
   "cell_type": "code",
   "execution_count": null,
   "metadata": {},
   "outputs": [],
   "source": []
  },
  {
   "cell_type": "code",
   "execution_count": 7,
   "metadata": {},
   "outputs": [
    {
     "data": {
      "application/vnd.jupyter.widget-view+json": {
       "model_id": "c491400a3cd746efaaaa2f6435b505f3",
       "version_major": 2,
       "version_minor": 0
      },
      "text/plain": [
       "Renderer(camera=PerspectiveCamera(aspect=1.5, children=(DirectionalLight(color='white', intensity=0.66, positi…"
      ]
     },
     "metadata": {},
     "output_type": "display_data"
    }
   ],
   "source": [
    "viewer = Viewer()\n",
    "viewer.add(Grid())\n",
    "model = ppf.load_ply_file('./samples/data-eirik/NEW_MODEL_NORMALS_CLUSTER_POISSON.ply')\n",
    "modelvis = PointCloud(model.array()[:3,:].T * 0.001)\n",
    "# modelvis.position = [0,0,7]\n",
    "viewer.add(modelvis)\n",
    "scene = ppf.load_ply_file('./samples/data-eirik/smallbin_1_unordered.ply')\n",
    "scenevis = PointCloud(scene.array()[:3,:].T * 0.001, color='gray')\n",
    "# modelvis.position = [0,0,7]\n",
    "viewer.add(scenevis)"
   ]
  },
  {
   "cell_type": "code",
   "execution_count": 36,
   "metadata": {},
   "outputs": [],
   "source": [
    "tau_d = 0.01\n",
    "scene_leaf_size = 9\n",
    "ref_point_df = 5\n",
    "vote_count_threshold = 0.2"
   ]
  },
  {
   "cell_type": "code",
   "execution_count": 37,
   "metadata": {},
   "outputs": [
    {
     "data": {
      "text/plain": [
       "1.198036003112793"
      ]
     },
     "execution_count": 37,
     "metadata": {},
     "output_type": "execute_result"
    }
   ],
   "source": [
    "minpt, maxpt = ppf.min_max_3d(model)\n",
    "model_d_dist = np.max(np.array([maxpt.x - minpt.x,\n",
    "                                maxpt.y - minpt.y, \n",
    "                                maxpt.z - minpt.z])) * tau_d\n",
    "model_d_dist"
   ]
  },
  {
   "cell_type": "code",
   "execution_count": 38,
   "metadata": {},
   "outputs": [],
   "source": [
    "downsampled_model = ppf.voxelgrid_downsample(model, model_d_dist)\n",
    "downsampled_scene = ppf.voxelgrid_downsample(scene, scene_leaf_size)"
   ]
  },
  {
   "cell_type": "code",
   "execution_count": 39,
   "metadata": {},
   "outputs": [],
   "source": [
    "# %%timeit\n",
    "T = ppf.ppf_registration(downsampled_scene,\n",
    "                                downsampled_model, \n",
    "                                model_d_dist, \n",
    "                                ref_point_df, \n",
    "                                vote_count_threshold)"
   ]
  },
  {
   "cell_type": "code",
   "execution_count": 40,
   "metadata": {},
   "outputs": [
    {
     "data": {
      "text/plain": [
       "array([[ -0.99017113,  -0.05190907,   0.12987155, -37.846622  ],\n",
       "       [ -0.12468067,  -0.09312683,  -0.9878169 , -61.129353  ],\n",
       "       [  0.06337118,  -0.9943002 ,   0.08573945, 828.4441    ],\n",
       "       [  0.        ,   0.        ,   0.        ,   1.        ]],\n",
       "      dtype=float32)"
      ]
     },
     "execution_count": 40,
     "metadata": {},
     "output_type": "execute_result"
    }
   ],
   "source": [
    "T"
   ]
  },
  {
   "cell_type": "code",
   "execution_count": 42,
   "metadata": {},
   "outputs": [
    {
     "data": {
      "text/plain": [
       "array([[ 21.157484 , -67.14619  , 838.18317  ],\n",
       "       [  1.6787167, -29.770424 , 836.2079   ],\n",
       "       [  6.9886136, -85.30176  , 844.76416  ],\n",
       "       ...,\n",
       "       [ 18.785929 , -89.61099  , 814.32104  ],\n",
       "       [ 20.510178 , -81.840904 , 813.50323  ],\n",
       "       [-75.1129   , -82.995605 , 835.1839   ]], dtype=float32)"
      ]
     },
     "execution_count": 42,
     "metadata": {},
     "output_type": "execute_result"
    }
   ],
   "source": [
    "transformed_model = ppf.transform_point_cloud(model, T)\n",
    "transformed_model.array()[:3,:].T"
   ]
  },
  {
   "cell_type": "code",
   "execution_count": 44,
   "metadata": {},
   "outputs": [
    {
     "data": {
      "text/plain": [
       "array([[   0.29032105,    0.28063005,   -0.9148559 , -102.35224   ],\n",
       "       [   0.09115554,    0.9435752 ,    0.31836718,   30.673239  ],\n",
       "       [   0.9525798 ,   -0.17582282,    0.24835844,  793.85443   ],\n",
       "       [   0.        ,    0.        ,    0.        ,    1.        ]],\n",
       "      dtype=float32)"
      ]
     },
     "execution_count": 44,
     "metadata": {},
     "output_type": "execute_result"
    }
   ],
   "source": [
    "T = ppf.icp(scene, model)\n",
    "T"
   ]
  },
  {
   "cell_type": "code",
   "execution_count": 14,
   "metadata": {},
   "outputs": [],
   "source": [
    "transformed_scene_points = (np.linalg.inv(T) @ np.vstack((scene.array()[:3,:], np.ones(scene.width))))[:3,:].T.reshape(-1,3)\n",
    "# transformed_scene_points"
   ]
  },
  {
   "cell_type": "code",
   "execution_count": 15,
   "metadata": {},
   "outputs": [
    {
     "data": {
      "application/vnd.jupyter.widget-view+json": {
       "model_id": "ed26ae6b56f34ebfa1330749d6f902d8",
       "version_major": 2,
       "version_minor": 0
      },
      "text/plain": [
       "Renderer(camera=PerspectiveCamera(aspect=1.5, children=(DirectionalLight(color='white', intensity=0.66, positi…"
      ]
     },
     "metadata": {},
     "output_type": "display_data"
    }
   ],
   "source": [
    "viewer = Viewer()\n",
    "viewer.add(Grid())\n",
    "scenevis = PointCloud(transformed_scene_points * 0.001, color='white')\n",
    "viewer.add(scenevis)\n",
    "modelvis = PointCloud(model.array()[:3,:].T * 0.001, color='red')\n",
    "viewer.add(modelvis)"
   ]
  }
 ],
 "metadata": {
  "kernelspec": {
   "display_name": "Python 3",
   "language": "python",
   "name": "python3"
  },
  "language_info": {
   "codemirror_mode": {
    "name": "ipython",
    "version": 3
   },
   "file_extension": ".py",
   "mimetype": "text/x-python",
   "name": "python",
   "nbconvert_exporter": "python",
   "pygments_lexer": "ipython3",
   "version": "3.6.6"
  }
 },
 "nbformat": 4,
 "nbformat_minor": 2
}
