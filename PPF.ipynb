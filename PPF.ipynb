{
 "cells": [
  {
   "cell_type": "code",
   "execution_count": 1,
   "metadata": {},
   "outputs": [],
   "source": [
    "import sys\n",
    "sys.path.append('./build')"
   ]
  },
  {
   "cell_type": "code",
   "execution_count": 2,
   "metadata": {},
   "outputs": [],
   "source": [
    "from tpk4170.visualization import Viewer\n",
    "from tpk4170.models import Grid, PointCloud"
   ]
  },
  {
   "cell_type": "code",
   "execution_count": 3,
   "metadata": {},
   "outputs": [],
   "source": [
    "import numpy as np\n",
    "np.set_printoptions(suppress=True)"
   ]
  },
  {
   "cell_type": "code",
   "execution_count": 4,
   "metadata": {},
   "outputs": [],
   "source": [
    "import ppf_registration_spatial_hashing as ppf"
   ]
  },
  {
   "cell_type": "code",
   "execution_count": 5,
   "metadata": {},
   "outputs": [],
   "source": [
    "model = ppf.load_ply_file('./samples/data/parasaurolophus_low_normals2.ply')"
   ]
  },
  {
   "cell_type": "code",
   "execution_count": 6,
   "metadata": {},
   "outputs": [],
   "source": [
    "scene = ppf.load_ply_file('./samples/data/rs1_normals.ply')"
   ]
  },
  {
   "cell_type": "code",
   "execution_count": 11,
   "metadata": {},
   "outputs": [],
   "source": [
    "def run(model, scene, tau_d, ref_point_df=5, scene_leaf_size=7, vote_count_threshold=0.3):\n",
    "    minpt, maxpt = ppf.min_max_3d(model)\n",
    "    model_d_dist = np.max(np.array([maxpt.x - minpt.x,\n",
    "                                    maxpt.y - minpt.y, \n",
    "                                    maxpt.z - minpt.z])) * tau_d\n",
    "    downsampled_model = ppf.voxelgrid_downsample(model, model_d_dist)\n",
    "    downsampled_scene = ppf.voxelgrid_downsample(scene, scene_leaf_size)\n",
    "    solution = ppf.ppf_registration(downsampled_scene,\n",
    "                                    downsampled_model, \n",
    "                                    model_d_dist, \n",
    "                                    ref_point_df, \n",
    "                                    vote_count_threshold, cpu_clustering=False)\n",
    "    return solution"
   ]
  },
  {
   "cell_type": "code",
   "execution_count": 24,
   "metadata": {},
   "outputs": [
    {
     "data": {
      "text/plain": [
       "array([[   0.99961275,   -0.01596108,    0.0227909 , -101.37711   ],\n",
       "       [   0.02769098,    0.6507142 ,   -0.7588176 , -558.8262    ],\n",
       "       [  -0.0027188 ,    0.75915486,    0.65090436, -237.27734   ],\n",
       "       [   0.        ,    0.        ,    0.        ,    1.        ]],\n",
       "      dtype=float32)"
      ]
     },
     "execution_count": 24,
     "metadata": {},
     "output_type": "execute_result"
    }
   ],
   "source": [
    "T = run(model, scene, 0.05)\n",
    "T"
   ]
  },
  {
   "cell_type": "code",
   "execution_count": 25,
   "metadata": {},
   "outputs": [
    {
     "data": {
      "text/plain": [
       "array([[-163.77668715,  -48.32428516, -693.88526105],\n",
       "       [-163.92386582,  -49.40905647, -694.34889883],\n",
       "       [-163.13664221,  -48.74353932, -693.6697181 ],\n",
       "       ...,\n",
       "       [-163.3675347 , -111.14019672, -608.89912762],\n",
       "       [-164.23510823, -111.19902517, -609.03410223],\n",
       "       [-163.15136814, -110.51163782, -608.38903687]])"
      ]
     },
     "execution_count": 25,
     "metadata": {},
     "output_type": "execute_result"
    }
   ],
   "source": [
    "transformed_model_points = (T @ np.vstack((model.array()[:3,:], np.ones(model.width))))[:3,:].T.reshape(-1,3)\n",
    "transformed_model_points"
   ]
  },
  {
   "cell_type": "code",
   "execution_count": 26,
   "metadata": {},
   "outputs": [
    {
     "data": {
      "application/vnd.jupyter.widget-view+json": {
       "model_id": "d79b9fb44f684140bf2c5d52833f242d",
       "version_major": 2,
       "version_minor": 0
      },
      "text/plain": [
       "Renderer(camera=PerspectiveCamera(aspect=1.5, children=(DirectionalLight(color='white', intensity=0.66, positi…"
      ]
     },
     "metadata": {},
     "output_type": "display_data"
    }
   ],
   "source": [
    "viewer = Viewer()\n",
    "viewer.add(Grid())\n",
    "modelvis = PointCloud(transformed_model_points * 0.01)\n",
    "modelvis.position = [0,0,7]\n",
    "viewer.add(modelvis)\n",
    "scenevis = PointCloud(scene.array()[:3,:].T * 0.01, color='gray')\n",
    "scenevis.position = [0,0,7]\n",
    "viewer.add(scenevis)"
   ]
  },
  {
   "cell_type": "code",
   "execution_count": 46,
   "metadata": {},
   "outputs": [],
   "source": []
  },
  {
   "cell_type": "code",
   "execution_count": null,
   "metadata": {},
   "outputs": [],
   "source": []
  },
  {
   "cell_type": "code",
   "execution_count": null,
   "metadata": {},
   "outputs": [],
   "source": []
  }
 ],
 "metadata": {
  "kernelspec": {
   "display_name": "Python 3",
   "language": "python",
   "name": "python3"
  },
  "language_info": {
   "codemirror_mode": {
    "name": "ipython",
    "version": 3
   },
   "file_extension": ".py",
   "mimetype": "text/x-python",
   "name": "python",
   "nbconvert_exporter": "python",
   "pygments_lexer": "ipython3",
   "version": "3.6.6"
  }
 },
 "nbformat": 4,
 "nbformat_minor": 2
}
